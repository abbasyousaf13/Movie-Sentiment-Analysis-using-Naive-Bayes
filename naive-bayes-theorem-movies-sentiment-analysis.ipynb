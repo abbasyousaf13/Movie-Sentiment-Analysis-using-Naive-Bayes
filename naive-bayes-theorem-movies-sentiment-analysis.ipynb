{
 "cells": [
  {
   "cell_type": "code",
   "execution_count": 1,
   "id": "c56d3db5",
   "metadata": {
    "_cell_guid": "b1076dfc-b9ad-4769-8c92-a6c4dae69d19",
    "_uuid": "8f2839f25d086af736a60e9eeb907d3b93b6e0e5",
    "execution": {
     "iopub.execute_input": "2023-11-05T14:21:42.657385Z",
     "iopub.status.busy": "2023-11-05T14:21:42.656997Z",
     "iopub.status.idle": "2023-11-05T14:21:43.167718Z",
     "shell.execute_reply": "2023-11-05T14:21:43.166564Z"
    },
    "papermill": {
     "duration": 0.533049,
     "end_time": "2023-11-05T14:21:43.170503",
     "exception": false,
     "start_time": "2023-11-05T14:21:42.637454",
     "status": "completed"
    },
    "tags": []
   },
   "outputs": [
    {
     "name": "stdout",
     "output_type": "stream",
     "text": [
      "/kaggle/input/imdb-dataset-of-50k-movie-reviews/IMDB Dataset.csv\n"
     ]
    }
   ],
   "source": [
    "# This Python 3 environment comes with many helpful analytics libraries installed\n",
    "# It is defined by the kaggle/python Docker image: https://github.com/kaggle/docker-python\n",
    "# For example, here's several helpful packages to load\n",
    "\n",
    "import numpy as np # linear algebra\n",
    "import pandas as pd # data processing, CSV file I/O (e.g. pd.read_csv)\n",
    "\n",
    "# Input data files are available in the read-only \"../input/\" directory\n",
    "# For example, running this (by clicking run or pressing Shift+Enter) will list all files under the input directory\n",
    "\n",
    "import os\n",
    "for dirname, _, filenames in os.walk('/kaggle/input'):\n",
    "    for filename in filenames:\n",
    "        print(os.path.join(dirname, filename))\n",
    "\n",
    "# You can write up to 20GB to the current directory (/kaggle/working/) that gets preserved as output when you create a version using \"Save & Run All\" \n",
    "# You can also write temporary files to /kaggle/temp/, but they won't be saved outside of the current session"
   ]
  },
  {
   "cell_type": "code",
   "execution_count": 2,
   "id": "1a28980c",
   "metadata": {
    "execution": {
     "iopub.execute_input": "2023-11-05T14:21:43.207868Z",
     "iopub.status.busy": "2023-11-05T14:21:43.207301Z",
     "iopub.status.idle": "2023-11-05T14:21:44.843164Z",
     "shell.execute_reply": "2023-11-05T14:21:44.842152Z"
    },
    "papermill": {
     "duration": 1.657465,
     "end_time": "2023-11-05T14:21:44.845901",
     "exception": false,
     "start_time": "2023-11-05T14:21:43.188436",
     "status": "completed"
    },
    "tags": []
   },
   "outputs": [],
   "source": [
    "import pandas as pd\n",
    "df=pd.read_csv('/kaggle/input/imdb-dataset-of-50k-movie-reviews/IMDB Dataset.csv')"
   ]
  },
  {
   "cell_type": "code",
   "execution_count": 3,
   "id": "13b0e6ef",
   "metadata": {
    "execution": {
     "iopub.execute_input": "2023-11-05T14:21:44.882056Z",
     "iopub.status.busy": "2023-11-05T14:21:44.881655Z",
     "iopub.status.idle": "2023-11-05T14:21:44.904819Z",
     "shell.execute_reply": "2023-11-05T14:21:44.903413Z"
    },
    "papermill": {
     "duration": 0.044516,
     "end_time": "2023-11-05T14:21:44.907506",
     "exception": false,
     "start_time": "2023-11-05T14:21:44.862990",
     "status": "completed"
    },
    "tags": []
   },
   "outputs": [
    {
     "data": {
      "text/html": [
       "<div>\n",
       "<style scoped>\n",
       "    .dataframe tbody tr th:only-of-type {\n",
       "        vertical-align: middle;\n",
       "    }\n",
       "\n",
       "    .dataframe tbody tr th {\n",
       "        vertical-align: top;\n",
       "    }\n",
       "\n",
       "    .dataframe thead th {\n",
       "        text-align: right;\n",
       "    }\n",
       "</style>\n",
       "<table border=\"1\" class=\"dataframe\">\n",
       "  <thead>\n",
       "    <tr style=\"text-align: right;\">\n",
       "      <th></th>\n",
       "      <th>review</th>\n",
       "      <th>sentiment</th>\n",
       "    </tr>\n",
       "  </thead>\n",
       "  <tbody>\n",
       "    <tr>\n",
       "      <th>0</th>\n",
       "      <td>One of the other reviewers has mentioned that ...</td>\n",
       "      <td>positive</td>\n",
       "    </tr>\n",
       "    <tr>\n",
       "      <th>1</th>\n",
       "      <td>A wonderful little production. &lt;br /&gt;&lt;br /&gt;The...</td>\n",
       "      <td>positive</td>\n",
       "    </tr>\n",
       "    <tr>\n",
       "      <th>2</th>\n",
       "      <td>I thought this was a wonderful way to spend ti...</td>\n",
       "      <td>positive</td>\n",
       "    </tr>\n",
       "    <tr>\n",
       "      <th>3</th>\n",
       "      <td>Basically there's a family where a little boy ...</td>\n",
       "      <td>negative</td>\n",
       "    </tr>\n",
       "    <tr>\n",
       "      <th>4</th>\n",
       "      <td>Petter Mattei's \"Love in the Time of Money\" is...</td>\n",
       "      <td>positive</td>\n",
       "    </tr>\n",
       "  </tbody>\n",
       "</table>\n",
       "</div>"
      ],
      "text/plain": [
       "                                              review sentiment\n",
       "0  One of the other reviewers has mentioned that ...  positive\n",
       "1  A wonderful little production. <br /><br />The...  positive\n",
       "2  I thought this was a wonderful way to spend ti...  positive\n",
       "3  Basically there's a family where a little boy ...  negative\n",
       "4  Petter Mattei's \"Love in the Time of Money\" is...  positive"
      ]
     },
     "execution_count": 3,
     "metadata": {},
     "output_type": "execute_result"
    }
   ],
   "source": [
    "df.head()"
   ]
  },
  {
   "cell_type": "code",
   "execution_count": 4,
   "id": "00848869",
   "metadata": {
    "execution": {
     "iopub.execute_input": "2023-11-05T14:21:44.944040Z",
     "iopub.status.busy": "2023-11-05T14:21:44.943627Z",
     "iopub.status.idle": "2023-11-05T14:21:44.950941Z",
     "shell.execute_reply": "2023-11-05T14:21:44.949930Z"
    },
    "papermill": {
     "duration": 0.028288,
     "end_time": "2023-11-05T14:21:44.953132",
     "exception": false,
     "start_time": "2023-11-05T14:21:44.924844",
     "status": "completed"
    },
    "tags": []
   },
   "outputs": [
    {
     "data": {
      "text/plain": [
       "\"One of the other reviewers has mentioned that after watching just 1 Oz episode you'll be hooked. They are right, as this is exactly what happened with me.<br /><br />The first thing that struck me about Oz was its brutality and unflinching scenes of violence, which set in right from the word GO. Trust me, this is not a show for the faint hearted or timid. This show pulls no punches with regards to drugs, sex or violence. Its is hardcore, in the classic use of the word.<br /><br />It is called OZ as that is the nickname given to the Oswald Maximum Security State Penitentary. It focuses mainly on Emerald City, an experimental section of the prison where all the cells have glass fronts and face inwards, so privacy is not high on the agenda. Em City is home to many..Aryans, Muslims, gangstas, Latinos, Christians, Italians, Irish and more....so scuffles, death stares, dodgy dealings and shady agreements are never far away.<br /><br />I would say the main appeal of the show is due to the fact that it goes where other shows wouldn't dare. Forget pretty pictures painted for mainstream audiences, forget charm, forget romance...OZ doesn't mess around. The first episode I ever saw struck me as so nasty it was surreal, I couldn't say I was ready for it, but as I watched more, I developed a taste for Oz, and got accustomed to the high levels of graphic violence. Not just violence, but injustice (crooked guards who'll be sold out for a nickel, inmates who'll kill on order and get away with it, well mannered, middle class inmates being turned into prison bitches due to their lack of street skills or prison experience) Watching Oz, you may become comfortable with what is uncomfortable viewing....thats if you can get in touch with your darker side.\""
      ]
     },
     "execution_count": 4,
     "metadata": {},
     "output_type": "execute_result"
    }
   ],
   "source": [
    "# one review\n",
    "df['review'][0]"
   ]
  },
  {
   "cell_type": "markdown",
   "id": "79c8b89a",
   "metadata": {
    "papermill": {
     "duration": 0.018805,
     "end_time": "2023-11-05T14:21:44.989787",
     "exception": false,
     "start_time": "2023-11-05T14:21:44.970982",
     "status": "completed"
    },
    "tags": []
   },
   "source": [
    "**Text Cleaning**\n",
    "- sample 10000 rows\n",
    "- remove html tage\n",
    "- remove special characters\n",
    "- coverting everything to lower case\n",
    "- removing stop words\n",
    "- stemming"
   ]
  },
  {
   "cell_type": "code",
   "execution_count": 5,
   "id": "70e5e3a5",
   "metadata": {
    "execution": {
     "iopub.execute_input": "2023-11-05T14:21:45.030331Z",
     "iopub.status.busy": "2023-11-05T14:21:45.029935Z",
     "iopub.status.idle": "2023-11-05T14:21:45.043503Z",
     "shell.execute_reply": "2023-11-05T14:21:45.042419Z"
    },
    "papermill": {
     "duration": 0.036445,
     "end_time": "2023-11-05T14:21:45.046066",
     "exception": false,
     "start_time": "2023-11-05T14:21:45.009621",
     "status": "completed"
    },
    "tags": []
   },
   "outputs": [],
   "source": [
    "df=df.sample(10000)"
   ]
  },
  {
   "cell_type": "code",
   "execution_count": 6,
   "id": "eecb9ac3",
   "metadata": {
    "execution": {
     "iopub.execute_input": "2023-11-05T14:21:45.084054Z",
     "iopub.status.busy": "2023-11-05T14:21:45.082769Z",
     "iopub.status.idle": "2023-11-05T14:21:45.089713Z",
     "shell.execute_reply": "2023-11-05T14:21:45.088823Z"
    },
    "papermill": {
     "duration": 0.028033,
     "end_time": "2023-11-05T14:21:45.091921",
     "exception": false,
     "start_time": "2023-11-05T14:21:45.063888",
     "status": "completed"
    },
    "tags": []
   },
   "outputs": [
    {
     "data": {
      "text/plain": [
       "(10000, 2)"
      ]
     },
     "execution_count": 6,
     "metadata": {},
     "output_type": "execute_result"
    }
   ],
   "source": [
    "df.shape"
   ]
  },
  {
   "cell_type": "code",
   "execution_count": 7,
   "id": "def0d18f",
   "metadata": {
    "execution": {
     "iopub.execute_input": "2023-11-05T14:21:45.130060Z",
     "iopub.status.busy": "2023-11-05T14:21:45.128667Z",
     "iopub.status.idle": "2023-11-05T14:21:45.159257Z",
     "shell.execute_reply": "2023-11-05T14:21:45.157964Z"
    },
    "papermill": {
     "duration": 0.052069,
     "end_time": "2023-11-05T14:21:45.161669",
     "exception": false,
     "start_time": "2023-11-05T14:21:45.109600",
     "status": "completed"
    },
    "tags": []
   },
   "outputs": [
    {
     "name": "stdout",
     "output_type": "stream",
     "text": [
      "<class 'pandas.core.frame.DataFrame'>\n",
      "Index: 10000 entries, 10499 to 756\n",
      "Data columns (total 2 columns):\n",
      " #   Column     Non-Null Count  Dtype \n",
      "---  ------     --------------  ----- \n",
      " 0   review     10000 non-null  object\n",
      " 1   sentiment  10000 non-null  object\n",
      "dtypes: object(2)\n",
      "memory usage: 234.4+ KB\n"
     ]
    }
   ],
   "source": [
    "df.info()"
   ]
  },
  {
   "cell_type": "code",
   "execution_count": 8,
   "id": "64f4fc81",
   "metadata": {
    "execution": {
     "iopub.execute_input": "2023-11-05T14:21:45.199605Z",
     "iopub.status.busy": "2023-11-05T14:21:45.198891Z",
     "iopub.status.idle": "2023-11-05T14:21:45.213831Z",
     "shell.execute_reply": "2023-11-05T14:21:45.212738Z"
    },
    "papermill": {
     "duration": 0.036743,
     "end_time": "2023-11-05T14:21:45.216417",
     "exception": false,
     "start_time": "2023-11-05T14:21:45.179674",
     "status": "completed"
    },
    "tags": []
   },
   "outputs": [],
   "source": [
    "df['sentiment'].replace({'positive':1, 'negative':0},inplace=True)"
   ]
  },
  {
   "cell_type": "code",
   "execution_count": 9,
   "id": "a6fb6dec",
   "metadata": {
    "execution": {
     "iopub.execute_input": "2023-11-05T14:21:45.253996Z",
     "iopub.status.busy": "2023-11-05T14:21:45.253597Z",
     "iopub.status.idle": "2023-11-05T14:21:45.263654Z",
     "shell.execute_reply": "2023-11-05T14:21:45.262485Z"
    },
    "papermill": {
     "duration": 0.031421,
     "end_time": "2023-11-05T14:21:45.265876",
     "exception": false,
     "start_time": "2023-11-05T14:21:45.234455",
     "status": "completed"
    },
    "tags": []
   },
   "outputs": [
    {
     "data": {
      "text/html": [
       "<div>\n",
       "<style scoped>\n",
       "    .dataframe tbody tr th:only-of-type {\n",
       "        vertical-align: middle;\n",
       "    }\n",
       "\n",
       "    .dataframe tbody tr th {\n",
       "        vertical-align: top;\n",
       "    }\n",
       "\n",
       "    .dataframe thead th {\n",
       "        text-align: right;\n",
       "    }\n",
       "</style>\n",
       "<table border=\"1\" class=\"dataframe\">\n",
       "  <thead>\n",
       "    <tr style=\"text-align: right;\">\n",
       "      <th></th>\n",
       "      <th>review</th>\n",
       "      <th>sentiment</th>\n",
       "    </tr>\n",
       "  </thead>\n",
       "  <tbody>\n",
       "    <tr>\n",
       "      <th>10499</th>\n",
       "      <td>I love this movie. I watched it over and over ...</td>\n",
       "      <td>1</td>\n",
       "    </tr>\n",
       "    <tr>\n",
       "      <th>31941</th>\n",
       "      <td>This movie is not as good as all think. the ac...</td>\n",
       "      <td>0</td>\n",
       "    </tr>\n",
       "    <tr>\n",
       "      <th>32645</th>\n",
       "      <td>I watched this years ago on television when I ...</td>\n",
       "      <td>0</td>\n",
       "    </tr>\n",
       "    <tr>\n",
       "      <th>21587</th>\n",
       "      <td>This movie was highly entertaining. The soundt...</td>\n",
       "      <td>1</td>\n",
       "    </tr>\n",
       "    <tr>\n",
       "      <th>19802</th>\n",
       "      <td>This movie is ageless and would probably appea...</td>\n",
       "      <td>1</td>\n",
       "    </tr>\n",
       "  </tbody>\n",
       "</table>\n",
       "</div>"
      ],
      "text/plain": [
       "                                                  review  sentiment\n",
       "10499  I love this movie. I watched it over and over ...          1\n",
       "31941  This movie is not as good as all think. the ac...          0\n",
       "32645  I watched this years ago on television when I ...          0\n",
       "21587  This movie was highly entertaining. The soundt...          1\n",
       "19802  This movie is ageless and would probably appea...          1"
      ]
     },
     "execution_count": 9,
     "metadata": {},
     "output_type": "execute_result"
    }
   ],
   "source": [
    "df.head()"
   ]
  },
  {
   "cell_type": "code",
   "execution_count": 10,
   "id": "e8ded8c9",
   "metadata": {
    "execution": {
     "iopub.execute_input": "2023-11-05T14:21:45.303659Z",
     "iopub.status.busy": "2023-11-05T14:21:45.302903Z",
     "iopub.status.idle": "2023-11-05T14:21:45.311107Z",
     "shell.execute_reply": "2023-11-05T14:21:45.310142Z"
    },
    "papermill": {
     "duration": 0.029609,
     "end_time": "2023-11-05T14:21:45.313233",
     "exception": false,
     "start_time": "2023-11-05T14:21:45.283624",
     "status": "completed"
    },
    "tags": []
   },
   "outputs": [
    {
     "data": {
      "text/plain": [
       "\"I watched this years ago on television when I was sick (I don't know, I tend to be more complacent with my TV viewing when I'm sick; too much effort to use the remote control, I guess).From what I can recall, every aspect of the movie--casting, acting, writing, directing, etc.--was ill-advised at best. I could have forgiven the historical inaccuracies if this film had created a sense of what it was like to work on Trinity; but it didn't. There were attempts to humanize the scientists, but they were insufficient and never transcended caricature.I didn't know very much about the people involved in the Manhattan Project at the time, but the portrayals in the movie were so cartoonish that I became interested in learning about the real personalities. And I did. So I guess this horrible film has done a very small amount of good, after all.This is not an in-depth review, but FMLB neither deserves nor requires one. You might enjoy it if you're a fan of bad movies.\""
      ]
     },
     "execution_count": 10,
     "metadata": {},
     "output_type": "execute_result"
    }
   ],
   "source": [
    "# importing regex library to remove all html tags\n",
    "import re\n",
    "clean=re.compile('<.*?>')\n",
    "re.sub(clean, '', df.iloc[2].review)"
   ]
  },
  {
   "cell_type": "code",
   "execution_count": 11,
   "id": "b998da60",
   "metadata": {
    "execution": {
     "iopub.execute_input": "2023-11-05T14:21:45.415439Z",
     "iopub.status.busy": "2023-11-05T14:21:45.414654Z",
     "iopub.status.idle": "2023-11-05T14:21:45.419577Z",
     "shell.execute_reply": "2023-11-05T14:21:45.418805Z"
    },
    "papermill": {
     "duration": 0.09055,
     "end_time": "2023-11-05T14:21:45.421777",
     "exception": false,
     "start_time": "2023-11-05T14:21:45.331227",
     "status": "completed"
    },
    "tags": []
   },
   "outputs": [],
   "source": [
    "def clean_html(text):\n",
    "    clean=re.compile('<.*?>')\n",
    "    return re.sub(clean, '', text)"
   ]
  },
  {
   "cell_type": "code",
   "execution_count": 12,
   "id": "f5490615",
   "metadata": {
    "execution": {
     "iopub.execute_input": "2023-11-05T14:21:45.461279Z",
     "iopub.status.busy": "2023-11-05T14:21:45.460490Z",
     "iopub.status.idle": "2023-11-05T14:21:45.535176Z",
     "shell.execute_reply": "2023-11-05T14:21:45.533901Z"
    },
    "papermill": {
     "duration": 0.097062,
     "end_time": "2023-11-05T14:21:45.537931",
     "exception": false,
     "start_time": "2023-11-05T14:21:45.440869",
     "status": "completed"
    },
    "tags": []
   },
   "outputs": [],
   "source": [
    "df['review']=df['review'].apply(clean_html)"
   ]
  },
  {
   "cell_type": "code",
   "execution_count": 13,
   "id": "6cbcf0ba",
   "metadata": {
    "execution": {
     "iopub.execute_input": "2023-11-05T14:21:45.577203Z",
     "iopub.status.busy": "2023-11-05T14:21:45.576579Z",
     "iopub.status.idle": "2023-11-05T14:21:45.582072Z",
     "shell.execute_reply": "2023-11-05T14:21:45.580960Z"
    },
    "papermill": {
     "duration": 0.027446,
     "end_time": "2023-11-05T14:21:45.584326",
     "exception": false,
     "start_time": "2023-11-05T14:21:45.556880",
     "status": "completed"
    },
    "tags": []
   },
   "outputs": [],
   "source": [
    "# converting eveything to lower\n",
    "def convert_lower(text):\n",
    "    return text.lower()"
   ]
  },
  {
   "cell_type": "code",
   "execution_count": 14,
   "id": "a643b36f",
   "metadata": {
    "execution": {
     "iopub.execute_input": "2023-11-05T14:21:45.622942Z",
     "iopub.status.busy": "2023-11-05T14:21:45.621800Z",
     "iopub.status.idle": "2023-11-05T14:21:45.672381Z",
     "shell.execute_reply": "2023-11-05T14:21:45.671234Z"
    },
    "papermill": {
     "duration": 0.072598,
     "end_time": "2023-11-05T14:21:45.675184",
     "exception": false,
     "start_time": "2023-11-05T14:21:45.602586",
     "status": "completed"
    },
    "tags": []
   },
   "outputs": [],
   "source": [
    "df['review']=df['review'].apply(convert_lower)"
   ]
  },
  {
   "cell_type": "code",
   "execution_count": 15,
   "id": "eaf535b6",
   "metadata": {
    "execution": {
     "iopub.execute_input": "2023-11-05T14:21:45.715859Z",
     "iopub.status.busy": "2023-11-05T14:21:45.715416Z",
     "iopub.status.idle": "2023-11-05T14:21:45.721817Z",
     "shell.execute_reply": "2023-11-05T14:21:45.720624Z"
    },
    "papermill": {
     "duration": 0.030325,
     "end_time": "2023-11-05T14:21:45.724366",
     "exception": false,
     "start_time": "2023-11-05T14:21:45.694041",
     "status": "completed"
    },
    "tags": []
   },
   "outputs": [],
   "source": [
    "# function to remove special characters\n",
    "def remove_special(text):\n",
    "    x=''\n",
    "    \n",
    "    for i in text:\n",
    "        if i.isalnum():\n",
    "            x=x+i\n",
    "        else:\n",
    "            x=x + ' '\n",
    "    return x"
   ]
  },
  {
   "cell_type": "code",
   "execution_count": 16,
   "id": "ca5aae2f",
   "metadata": {
    "execution": {
     "iopub.execute_input": "2023-11-05T14:21:45.763813Z",
     "iopub.status.busy": "2023-11-05T14:21:45.763174Z",
     "iopub.status.idle": "2023-11-05T14:21:45.771219Z",
     "shell.execute_reply": "2023-11-05T14:21:45.769987Z"
    },
    "papermill": {
     "duration": 0.030816,
     "end_time": "2023-11-05T14:21:45.773804",
     "exception": false,
     "start_time": "2023-11-05T14:21:45.742988",
     "status": "completed"
    },
    "tags": []
   },
   "outputs": [
    {
     "data": {
      "text/plain": [
       "'Th is sh ow pulls no punches with regards to drugs  sex or violence  Its is hardcore  in the classic use of the word  br    br   It is called OZ as that is the nickname given to the Oswald Maximum Security State Penitentary  It focuses mainly '"
      ]
     },
     "execution_count": 16,
     "metadata": {},
     "output_type": "execute_result"
    }
   ],
   "source": [
    "remove_special('Th%is sh@ow pulls no punches with regards to drugs, sex or violence. Its is hardcore, in the classic use of the word.<br /><br />It is called OZ as that is the nickname given to the Oswald Maximum Security State Penitentary. It focuses mainly ')"
   ]
  },
  {
   "cell_type": "code",
   "execution_count": 17,
   "id": "a72e6257",
   "metadata": {
    "execution": {
     "iopub.execute_input": "2023-11-05T14:21:45.813428Z",
     "iopub.status.busy": "2023-11-05T14:21:45.812743Z",
     "iopub.status.idle": "2023-11-05T14:21:48.793234Z",
     "shell.execute_reply": "2023-11-05T14:21:48.792184Z"
    },
    "papermill": {
     "duration": 3.003371,
     "end_time": "2023-11-05T14:21:48.795935",
     "exception": false,
     "start_time": "2023-11-05T14:21:45.792564",
     "status": "completed"
    },
    "tags": []
   },
   "outputs": [],
   "source": [
    "df['review']=df['review'].apply(remove_special)"
   ]
  },
  {
   "cell_type": "code",
   "execution_count": 18,
   "id": "8f0f5873",
   "metadata": {
    "execution": {
     "iopub.execute_input": "2023-11-05T14:21:48.834819Z",
     "iopub.status.busy": "2023-11-05T14:21:48.834146Z",
     "iopub.status.idle": "2023-11-05T14:21:50.756463Z",
     "shell.execute_reply": "2023-11-05T14:21:50.754992Z"
    },
    "papermill": {
     "duration": 1.945163,
     "end_time": "2023-11-05T14:21:50.759518",
     "exception": false,
     "start_time": "2023-11-05T14:21:48.814355",
     "status": "completed"
    },
    "tags": []
   },
   "outputs": [],
   "source": [
    "# removing the stop words\n",
    "import nltk"
   ]
  },
  {
   "cell_type": "code",
   "execution_count": 19,
   "id": "ff350a8e",
   "metadata": {
    "execution": {
     "iopub.execute_input": "2023-11-05T14:21:50.816736Z",
     "iopub.status.busy": "2023-11-05T14:21:50.815813Z",
     "iopub.status.idle": "2023-11-05T14:21:50.821344Z",
     "shell.execute_reply": "2023-11-05T14:21:50.820289Z"
    },
    "papermill": {
     "duration": 0.036367,
     "end_time": "2023-11-05T14:21:50.823890",
     "exception": false,
     "start_time": "2023-11-05T14:21:50.787523",
     "status": "completed"
    },
    "tags": []
   },
   "outputs": [],
   "source": [
    "from nltk.corpus import stopwords"
   ]
  },
  {
   "cell_type": "code",
   "execution_count": 20,
   "id": "0a4a4659",
   "metadata": {
    "execution": {
     "iopub.execute_input": "2023-11-05T14:21:50.864033Z",
     "iopub.status.busy": "2023-11-05T14:21:50.862946Z",
     "iopub.status.idle": "2023-11-05T14:21:50.877253Z",
     "shell.execute_reply": "2023-11-05T14:21:50.876129Z"
    },
    "papermill": {
     "duration": 0.037674,
     "end_time": "2023-11-05T14:21:50.879971",
     "exception": false,
     "start_time": "2023-11-05T14:21:50.842297",
     "status": "completed"
    },
    "tags": []
   },
   "outputs": [
    {
     "data": {
      "text/plain": [
       "179"
      ]
     },
     "execution_count": 20,
     "metadata": {},
     "output_type": "execute_result"
    }
   ],
   "source": [
    "len(stopwords.words('english'))"
   ]
  },
  {
   "cell_type": "code",
   "execution_count": 21,
   "id": "15921459",
   "metadata": {
    "execution": {
     "iopub.execute_input": "2023-11-05T14:21:50.922205Z",
     "iopub.status.busy": "2023-11-05T14:21:50.921299Z",
     "iopub.status.idle": "2023-11-05T14:21:50.936715Z",
     "shell.execute_reply": "2023-11-05T14:21:50.935636Z"
    },
    "papermill": {
     "duration": 0.040683,
     "end_time": "2023-11-05T14:21:50.939201",
     "exception": false,
     "start_time": "2023-11-05T14:21:50.898518",
     "status": "completed"
    },
    "tags": []
   },
   "outputs": [
    {
     "data": {
      "text/html": [
       "<div>\n",
       "<style scoped>\n",
       "    .dataframe tbody tr th:only-of-type {\n",
       "        vertical-align: middle;\n",
       "    }\n",
       "\n",
       "    .dataframe tbody tr th {\n",
       "        vertical-align: top;\n",
       "    }\n",
       "\n",
       "    .dataframe thead th {\n",
       "        text-align: right;\n",
       "    }\n",
       "</style>\n",
       "<table border=\"1\" class=\"dataframe\">\n",
       "  <thead>\n",
       "    <tr style=\"text-align: right;\">\n",
       "      <th></th>\n",
       "      <th>review</th>\n",
       "      <th>sentiment</th>\n",
       "    </tr>\n",
       "  </thead>\n",
       "  <tbody>\n",
       "    <tr>\n",
       "      <th>10499</th>\n",
       "      <td>i love this movie  i watched it over and over ...</td>\n",
       "      <td>1</td>\n",
       "    </tr>\n",
       "    <tr>\n",
       "      <th>31941</th>\n",
       "      <td>this movie is not as good as all think  the ac...</td>\n",
       "      <td>0</td>\n",
       "    </tr>\n",
       "    <tr>\n",
       "      <th>32645</th>\n",
       "      <td>i watched this years ago on television when i ...</td>\n",
       "      <td>0</td>\n",
       "    </tr>\n",
       "    <tr>\n",
       "      <th>21587</th>\n",
       "      <td>this movie was highly entertaining  the soundt...</td>\n",
       "      <td>1</td>\n",
       "    </tr>\n",
       "    <tr>\n",
       "      <th>19802</th>\n",
       "      <td>this movie is ageless and would probably appea...</td>\n",
       "      <td>1</td>\n",
       "    </tr>\n",
       "    <tr>\n",
       "      <th>...</th>\n",
       "      <td>...</td>\n",
       "      <td>...</td>\n",
       "    </tr>\n",
       "    <tr>\n",
       "      <th>36714</th>\n",
       "      <td>our reviewer from toronto told you what you ne...</td>\n",
       "      <td>1</td>\n",
       "    </tr>\n",
       "    <tr>\n",
       "      <th>26109</th>\n",
       "      <td>needful things was one of my favorite stephen ...</td>\n",
       "      <td>0</td>\n",
       "    </tr>\n",
       "    <tr>\n",
       "      <th>34190</th>\n",
       "      <td>gotta add a comment to this one   first  ironi...</td>\n",
       "      <td>0</td>\n",
       "    </tr>\n",
       "    <tr>\n",
       "      <th>15289</th>\n",
       "      <td>don t be fooled  this isn t yet another tired ...</td>\n",
       "      <td>1</td>\n",
       "    </tr>\n",
       "    <tr>\n",
       "      <th>756</th>\n",
       "      <td>i don t understand the positive comments made ...</td>\n",
       "      <td>0</td>\n",
       "    </tr>\n",
       "  </tbody>\n",
       "</table>\n",
       "<p>10000 rows × 2 columns</p>\n",
       "</div>"
      ],
      "text/plain": [
       "                                                  review  sentiment\n",
       "10499  i love this movie  i watched it over and over ...          1\n",
       "31941  this movie is not as good as all think  the ac...          0\n",
       "32645  i watched this years ago on television when i ...          0\n",
       "21587  this movie was highly entertaining  the soundt...          1\n",
       "19802  this movie is ageless and would probably appea...          1\n",
       "...                                                  ...        ...\n",
       "36714  our reviewer from toronto told you what you ne...          1\n",
       "26109  needful things was one of my favorite stephen ...          0\n",
       "34190  gotta add a comment to this one   first  ironi...          0\n",
       "15289  don t be fooled  this isn t yet another tired ...          1\n",
       "756    i don t understand the positive comments made ...          0\n",
       "\n",
       "[10000 rows x 2 columns]"
      ]
     },
     "execution_count": 21,
     "metadata": {},
     "output_type": "execute_result"
    }
   ],
   "source": [
    "df"
   ]
  },
  {
   "cell_type": "code",
   "execution_count": 22,
   "id": "76ea7f51",
   "metadata": {
    "execution": {
     "iopub.execute_input": "2023-11-05T14:21:50.979573Z",
     "iopub.status.busy": "2023-11-05T14:21:50.978615Z",
     "iopub.status.idle": "2023-11-05T14:21:50.986161Z",
     "shell.execute_reply": "2023-11-05T14:21:50.984964Z"
    },
    "papermill": {
     "duration": 0.030652,
     "end_time": "2023-11-05T14:21:50.988731",
     "exception": false,
     "start_time": "2023-11-05T14:21:50.958079",
     "status": "completed"
    },
    "tags": []
   },
   "outputs": [],
   "source": [
    "def remove_stopwords(text):\n",
    "    x=[]\n",
    "    for i in text.split():\n",
    "        \n",
    "        if i not in stopwords.words('english'):\n",
    "            x.append(i)\n",
    "    y=x[:]\n",
    "    x.clear()\n",
    "    return y"
   ]
  },
  {
   "cell_type": "code",
   "execution_count": 23,
   "id": "1ac6438a",
   "metadata": {
    "execution": {
     "iopub.execute_input": "2023-11-05T14:21:51.033112Z",
     "iopub.status.busy": "2023-11-05T14:21:51.032122Z",
     "iopub.status.idle": "2023-11-05T14:27:24.284105Z",
     "shell.execute_reply": "2023-11-05T14:27:24.282774Z"
    },
    "papermill": {
     "duration": 333.278161,
     "end_time": "2023-11-05T14:27:24.287183",
     "exception": false,
     "start_time": "2023-11-05T14:21:51.009022",
     "status": "completed"
    },
    "tags": []
   },
   "outputs": [],
   "source": [
    "df['review']=df['review'].apply(remove_stopwords)"
   ]
  },
  {
   "cell_type": "code",
   "execution_count": 24,
   "id": "9b9bc979",
   "metadata": {
    "execution": {
     "iopub.execute_input": "2023-11-05T14:27:24.327781Z",
     "iopub.status.busy": "2023-11-05T14:27:24.326609Z",
     "iopub.status.idle": "2023-11-05T14:27:24.347800Z",
     "shell.execute_reply": "2023-11-05T14:27:24.346625Z"
    },
    "papermill": {
     "duration": 0.044397,
     "end_time": "2023-11-05T14:27:24.350574",
     "exception": false,
     "start_time": "2023-11-05T14:27:24.306177",
     "status": "completed"
    },
    "tags": []
   },
   "outputs": [
    {
     "data": {
      "text/html": [
       "<div>\n",
       "<style scoped>\n",
       "    .dataframe tbody tr th:only-of-type {\n",
       "        vertical-align: middle;\n",
       "    }\n",
       "\n",
       "    .dataframe tbody tr th {\n",
       "        vertical-align: top;\n",
       "    }\n",
       "\n",
       "    .dataframe thead th {\n",
       "        text-align: right;\n",
       "    }\n",
       "</style>\n",
       "<table border=\"1\" class=\"dataframe\">\n",
       "  <thead>\n",
       "    <tr style=\"text-align: right;\">\n",
       "      <th></th>\n",
       "      <th>review</th>\n",
       "      <th>sentiment</th>\n",
       "    </tr>\n",
       "  </thead>\n",
       "  <tbody>\n",
       "    <tr>\n",
       "      <th>10499</th>\n",
       "      <td>[love, movie, watched, rented, netflix, lot, s...</td>\n",
       "      <td>1</td>\n",
       "    </tr>\n",
       "    <tr>\n",
       "      <th>31941</th>\n",
       "      <td>[movie, good, think, actors, lowlevel, story, ...</td>\n",
       "      <td>0</td>\n",
       "    </tr>\n",
       "    <tr>\n",
       "      <th>32645</th>\n",
       "      <td>[watched, years, ago, television, sick, know, ...</td>\n",
       "      <td>0</td>\n",
       "    </tr>\n",
       "    <tr>\n",
       "      <th>21587</th>\n",
       "      <td>[movie, highly, entertaining, soundtrack, bian...</td>\n",
       "      <td>1</td>\n",
       "    </tr>\n",
       "    <tr>\n",
       "      <th>19802</th>\n",
       "      <td>[movie, ageless, would, probably, appeal, chil...</td>\n",
       "      <td>1</td>\n",
       "    </tr>\n",
       "    <tr>\n",
       "      <th>...</th>\n",
       "      <td>...</td>\n",
       "      <td>...</td>\n",
       "    </tr>\n",
       "    <tr>\n",
       "      <th>36714</th>\n",
       "      <td>[reviewer, toronto, told, need, know, film, ex...</td>\n",
       "      <td>1</td>\n",
       "    </tr>\n",
       "    <tr>\n",
       "      <th>26109</th>\n",
       "      <td>[needful, things, one, favorite, stephen, king...</td>\n",
       "      <td>0</td>\n",
       "    </tr>\n",
       "    <tr>\n",
       "      <th>34190</th>\n",
       "      <td>[gotta, add, comment, one, first, ironically, ...</td>\n",
       "      <td>0</td>\n",
       "    </tr>\n",
       "    <tr>\n",
       "      <th>15289</th>\n",
       "      <td>[fooled, yet, another, tired, example, girls, ...</td>\n",
       "      <td>1</td>\n",
       "    </tr>\n",
       "    <tr>\n",
       "      <th>756</th>\n",
       "      <td>[understand, positive, comments, made, film, c...</td>\n",
       "      <td>0</td>\n",
       "    </tr>\n",
       "  </tbody>\n",
       "</table>\n",
       "<p>10000 rows × 2 columns</p>\n",
       "</div>"
      ],
      "text/plain": [
       "                                                  review  sentiment\n",
       "10499  [love, movie, watched, rented, netflix, lot, s...          1\n",
       "31941  [movie, good, think, actors, lowlevel, story, ...          0\n",
       "32645  [watched, years, ago, television, sick, know, ...          0\n",
       "21587  [movie, highly, entertaining, soundtrack, bian...          1\n",
       "19802  [movie, ageless, would, probably, appeal, chil...          1\n",
       "...                                                  ...        ...\n",
       "36714  [reviewer, toronto, told, need, know, film, ex...          1\n",
       "26109  [needful, things, one, favorite, stephen, king...          0\n",
       "34190  [gotta, add, comment, one, first, ironically, ...          0\n",
       "15289  [fooled, yet, another, tired, example, girls, ...          1\n",
       "756    [understand, positive, comments, made, film, c...          0\n",
       "\n",
       "[10000 rows x 2 columns]"
      ]
     },
     "execution_count": 24,
     "metadata": {},
     "output_type": "execute_result"
    }
   ],
   "source": [
    "df"
   ]
  },
  {
   "cell_type": "code",
   "execution_count": 25,
   "id": "6843f392",
   "metadata": {
    "execution": {
     "iopub.execute_input": "2023-11-05T14:27:24.390891Z",
     "iopub.status.busy": "2023-11-05T14:27:24.390102Z",
     "iopub.status.idle": "2023-11-05T14:27:24.395172Z",
     "shell.execute_reply": "2023-11-05T14:27:24.394381Z"
    },
    "papermill": {
     "duration": 0.027738,
     "end_time": "2023-11-05T14:27:24.397477",
     "exception": false,
     "start_time": "2023-11-05T14:27:24.369739",
     "status": "completed"
    },
    "tags": []
   },
   "outputs": [],
   "source": [
    "# perform stemming\n",
    "\n",
    "from nltk.stem.porter import PorterStemmer\n",
    "ps=PorterStemmer()"
   ]
  },
  {
   "cell_type": "code",
   "execution_count": 26,
   "id": "3a9739c1",
   "metadata": {
    "execution": {
     "iopub.execute_input": "2023-11-05T14:27:24.437221Z",
     "iopub.status.busy": "2023-11-05T14:27:24.436834Z",
     "iopub.status.idle": "2023-11-05T14:27:24.442777Z",
     "shell.execute_reply": "2023-11-05T14:27:24.441661Z"
    },
    "papermill": {
     "duration": 0.028717,
     "end_time": "2023-11-05T14:27:24.445101",
     "exception": false,
     "start_time": "2023-11-05T14:27:24.416384",
     "status": "completed"
    },
    "tags": []
   },
   "outputs": [],
   "source": [
    "y=[]\n",
    "def stem_words(text):\n",
    "    for i in text:\n",
    "        y.append(ps.stem(i))\n",
    "    z=y[:]\n",
    "    y.clear()\n",
    "    return z"
   ]
  },
  {
   "cell_type": "code",
   "execution_count": 27,
   "id": "5fd9b230",
   "metadata": {
    "execution": {
     "iopub.execute_input": "2023-11-05T14:27:24.485423Z",
     "iopub.status.busy": "2023-11-05T14:27:24.484597Z",
     "iopub.status.idle": "2023-11-05T14:27:24.492182Z",
     "shell.execute_reply": "2023-11-05T14:27:24.491173Z"
    },
    "papermill": {
     "duration": 0.03041,
     "end_time": "2023-11-05T14:27:24.494490",
     "exception": false,
     "start_time": "2023-11-05T14:27:24.464080",
     "status": "completed"
    },
    "tags": []
   },
   "outputs": [
    {
     "data": {
      "text/plain": [
       "['I', 'love', 'love', 'it']"
      ]
     },
     "execution_count": 27,
     "metadata": {},
     "output_type": "execute_result"
    }
   ],
   "source": [
    "stem_words(['I','loved','loving','it'])"
   ]
  },
  {
   "cell_type": "code",
   "execution_count": 28,
   "id": "32633fb1",
   "metadata": {
    "execution": {
     "iopub.execute_input": "2023-11-05T14:27:24.536712Z",
     "iopub.status.busy": "2023-11-05T14:27:24.535330Z",
     "iopub.status.idle": "2023-11-05T14:28:12.617833Z",
     "shell.execute_reply": "2023-11-05T14:28:12.616761Z"
    },
    "papermill": {
     "duration": 48.106698,
     "end_time": "2023-11-05T14:28:12.620671",
     "exception": false,
     "start_time": "2023-11-05T14:27:24.513973",
     "status": "completed"
    },
    "tags": []
   },
   "outputs": [],
   "source": [
    "df['review']=df['review'].apply(stem_words)"
   ]
  },
  {
   "cell_type": "code",
   "execution_count": 29,
   "id": "50ac366d",
   "metadata": {
    "execution": {
     "iopub.execute_input": "2023-11-05T14:28:12.662399Z",
     "iopub.status.busy": "2023-11-05T14:28:12.661322Z",
     "iopub.status.idle": "2023-11-05T14:28:12.683277Z",
     "shell.execute_reply": "2023-11-05T14:28:12.681882Z"
    },
    "papermill": {
     "duration": 0.045877,
     "end_time": "2023-11-05T14:28:12.685888",
     "exception": false,
     "start_time": "2023-11-05T14:28:12.640011",
     "status": "completed"
    },
    "tags": []
   },
   "outputs": [
    {
     "data": {
      "text/html": [
       "<div>\n",
       "<style scoped>\n",
       "    .dataframe tbody tr th:only-of-type {\n",
       "        vertical-align: middle;\n",
       "    }\n",
       "\n",
       "    .dataframe tbody tr th {\n",
       "        vertical-align: top;\n",
       "    }\n",
       "\n",
       "    .dataframe thead th {\n",
       "        text-align: right;\n",
       "    }\n",
       "</style>\n",
       "<table border=\"1\" class=\"dataframe\">\n",
       "  <thead>\n",
       "    <tr style=\"text-align: right;\">\n",
       "      <th></th>\n",
       "      <th>review</th>\n",
       "      <th>sentiment</th>\n",
       "    </tr>\n",
       "  </thead>\n",
       "  <tbody>\n",
       "    <tr>\n",
       "      <th>10499</th>\n",
       "      <td>[love, movi, watch, rent, netflix, lot, substa...</td>\n",
       "      <td>1</td>\n",
       "    </tr>\n",
       "    <tr>\n",
       "      <th>31941</th>\n",
       "      <td>[movi, good, think, actor, lowlevel, stori, co...</td>\n",
       "      <td>0</td>\n",
       "    </tr>\n",
       "    <tr>\n",
       "      <th>32645</th>\n",
       "      <td>[watch, year, ago, televis, sick, know, tend, ...</td>\n",
       "      <td>0</td>\n",
       "    </tr>\n",
       "    <tr>\n",
       "      <th>21587</th>\n",
       "      <td>[movi, highli, entertain, soundtrack, bian, ad...</td>\n",
       "      <td>1</td>\n",
       "    </tr>\n",
       "    <tr>\n",
       "      <th>19802</th>\n",
       "      <td>[movi, ageless, would, probabl, appeal, childr...</td>\n",
       "      <td>1</td>\n",
       "    </tr>\n",
       "    <tr>\n",
       "      <th>...</th>\n",
       "      <td>...</td>\n",
       "      <td>...</td>\n",
       "    </tr>\n",
       "    <tr>\n",
       "      <th>36714</th>\n",
       "      <td>[review, toronto, told, need, know, film, exce...</td>\n",
       "      <td>1</td>\n",
       "    </tr>\n",
       "    <tr>\n",
       "      <th>26109</th>\n",
       "      <td>[need, thing, one, favorit, stephen, king, boo...</td>\n",
       "      <td>0</td>\n",
       "    </tr>\n",
       "    <tr>\n",
       "      <th>34190</th>\n",
       "      <td>[gotta, add, comment, one, first, iron, one, n...</td>\n",
       "      <td>0</td>\n",
       "    </tr>\n",
       "    <tr>\n",
       "      <th>15289</th>\n",
       "      <td>[fool, yet, anoth, tire, exampl, girl, outer, ...</td>\n",
       "      <td>1</td>\n",
       "    </tr>\n",
       "    <tr>\n",
       "      <th>756</th>\n",
       "      <td>[understand, posit, comment, made, film, cheap...</td>\n",
       "      <td>0</td>\n",
       "    </tr>\n",
       "  </tbody>\n",
       "</table>\n",
       "<p>10000 rows × 2 columns</p>\n",
       "</div>"
      ],
      "text/plain": [
       "                                                  review  sentiment\n",
       "10499  [love, movi, watch, rent, netflix, lot, substa...          1\n",
       "31941  [movi, good, think, actor, lowlevel, stori, co...          0\n",
       "32645  [watch, year, ago, televis, sick, know, tend, ...          0\n",
       "21587  [movi, highli, entertain, soundtrack, bian, ad...          1\n",
       "19802  [movi, ageless, would, probabl, appeal, childr...          1\n",
       "...                                                  ...        ...\n",
       "36714  [review, toronto, told, need, know, film, exce...          1\n",
       "26109  [need, thing, one, favorit, stephen, king, boo...          0\n",
       "34190  [gotta, add, comment, one, first, iron, one, n...          0\n",
       "15289  [fool, yet, anoth, tire, exampl, girl, outer, ...          1\n",
       "756    [understand, posit, comment, made, film, cheap...          0\n",
       "\n",
       "[10000 rows x 2 columns]"
      ]
     },
     "execution_count": 29,
     "metadata": {},
     "output_type": "execute_result"
    }
   ],
   "source": [
    "df"
   ]
  },
  {
   "cell_type": "code",
   "execution_count": 30,
   "id": "8e1bbd7d",
   "metadata": {
    "execution": {
     "iopub.execute_input": "2023-11-05T14:28:12.727253Z",
     "iopub.status.busy": "2023-11-05T14:28:12.726839Z",
     "iopub.status.idle": "2023-11-05T14:28:12.732172Z",
     "shell.execute_reply": "2023-11-05T14:28:12.730979Z"
    },
    "papermill": {
     "duration": 0.028953,
     "end_time": "2023-11-05T14:28:12.734871",
     "exception": false,
     "start_time": "2023-11-05T14:28:12.705918",
     "status": "completed"
    },
    "tags": []
   },
   "outputs": [],
   "source": [
    "# join back\n",
    "\n",
    "def join_back(list_input):\n",
    "    return \" \".join(list_input)"
   ]
  },
  {
   "cell_type": "code",
   "execution_count": 31,
   "id": "f9653690",
   "metadata": {
    "execution": {
     "iopub.execute_input": "2023-11-05T14:28:12.777014Z",
     "iopub.status.busy": "2023-11-05T14:28:12.776280Z",
     "iopub.status.idle": "2023-11-05T14:28:12.882153Z",
     "shell.execute_reply": "2023-11-05T14:28:12.881225Z"
    },
    "papermill": {
     "duration": 0.130177,
     "end_time": "2023-11-05T14:28:12.884745",
     "exception": false,
     "start_time": "2023-11-05T14:28:12.754568",
     "status": "completed"
    },
    "tags": []
   },
   "outputs": [],
   "source": [
    "df['review']=df['review'].apply(join_back)"
   ]
  },
  {
   "cell_type": "code",
   "execution_count": 32,
   "id": "e124b5ad",
   "metadata": {
    "execution": {
     "iopub.execute_input": "2023-11-05T14:28:12.925815Z",
     "iopub.status.busy": "2023-11-05T14:28:12.925126Z",
     "iopub.status.idle": "2023-11-05T14:28:12.934002Z",
     "shell.execute_reply": "2023-11-05T14:28:12.932779Z"
    },
    "papermill": {
     "duration": 0.0321,
     "end_time": "2023-11-05T14:28:12.936247",
     "exception": false,
     "start_time": "2023-11-05T14:28:12.904147",
     "status": "completed"
    },
    "tags": []
   },
   "outputs": [
    {
     "data": {
      "text/plain": [
       "10499    love movi watch rent netflix lot substanc mean...\n",
       "31941    movi good think actor lowlevel stori comic lik...\n",
       "32645    watch year ago televis sick know tend complac ...\n",
       "21587    movi highli entertain soundtrack bian adam sim...\n",
       "19802    movi ageless would probabl appeal children tod...\n",
       "                               ...                        \n",
       "36714    review toronto told need know film except note...\n",
       "26109    need thing one favorit stephen king book movi ...\n",
       "34190    gotta add comment one first iron one need add ...\n",
       "15289    fool yet anoth tire exampl girl outer space pr...\n",
       "756      understand posit comment made film cheap nasti...\n",
       "Name: review, Length: 10000, dtype: object"
      ]
     },
     "execution_count": 32,
     "metadata": {},
     "output_type": "execute_result"
    }
   ],
   "source": [
    "# after doing textpreprocessing, df is totally ready\n",
    "\n",
    "df['review']"
   ]
  },
  {
   "cell_type": "code",
   "execution_count": 33,
   "id": "82ab2415",
   "metadata": {
    "execution": {
     "iopub.execute_input": "2023-11-05T14:28:12.978669Z",
     "iopub.status.busy": "2023-11-05T14:28:12.977823Z",
     "iopub.status.idle": "2023-11-05T14:28:12.984004Z",
     "shell.execute_reply": "2023-11-05T14:28:12.983087Z"
    },
    "papermill": {
     "duration": 0.030127,
     "end_time": "2023-11-05T14:28:12.986384",
     "exception": false,
     "start_time": "2023-11-05T14:28:12.956257",
     "status": "completed"
    },
    "tags": []
   },
   "outputs": [],
   "source": [
    "X=df.iloc[:,0:1].values"
   ]
  },
  {
   "cell_type": "code",
   "execution_count": 34,
   "id": "0d138d0d",
   "metadata": {
    "execution": {
     "iopub.execute_input": "2023-11-05T14:28:13.028518Z",
     "iopub.status.busy": "2023-11-05T14:28:13.027836Z",
     "iopub.status.idle": "2023-11-05T14:28:13.035118Z",
     "shell.execute_reply": "2023-11-05T14:28:13.033871Z"
    },
    "papermill": {
     "duration": 0.031408,
     "end_time": "2023-11-05T14:28:13.037483",
     "exception": false,
     "start_time": "2023-11-05T14:28:13.006075",
     "status": "completed"
    },
    "tags": []
   },
   "outputs": [
    {
     "data": {
      "text/plain": [
       "(10000, 1)"
      ]
     },
     "execution_count": 34,
     "metadata": {},
     "output_type": "execute_result"
    }
   ],
   "source": [
    "X.shape"
   ]
  },
  {
   "cell_type": "code",
   "execution_count": 35,
   "id": "8c767ce3",
   "metadata": {
    "execution": {
     "iopub.execute_input": "2023-11-05T14:28:13.079265Z",
     "iopub.status.busy": "2023-11-05T14:28:13.078575Z",
     "iopub.status.idle": "2023-11-05T14:28:13.083959Z",
     "shell.execute_reply": "2023-11-05T14:28:13.083011Z"
    },
    "papermill": {
     "duration": 0.029223,
     "end_time": "2023-11-05T14:28:13.086484",
     "exception": false,
     "start_time": "2023-11-05T14:28:13.057261",
     "status": "completed"
    },
    "tags": []
   },
   "outputs": [],
   "source": [
    "from sklearn.feature_extraction.text import CountVectorizer\n",
    "cv=CountVectorizer(max_features=1000) \n",
    "# max_feature can increase accuracy as it takes limited columns"
   ]
  },
  {
   "cell_type": "code",
   "execution_count": 36,
   "id": "ec949d3f",
   "metadata": {
    "execution": {
     "iopub.execute_input": "2023-11-05T14:28:13.129703Z",
     "iopub.status.busy": "2023-11-05T14:28:13.129038Z",
     "iopub.status.idle": "2023-11-05T14:28:14.832702Z",
     "shell.execute_reply": "2023-11-05T14:28:14.831706Z"
    },
    "papermill": {
     "duration": 1.727757,
     "end_time": "2023-11-05T14:28:14.835386",
     "exception": false,
     "start_time": "2023-11-05T14:28:13.107629",
     "status": "completed"
    },
    "tags": []
   },
   "outputs": [],
   "source": [
    "X=cv.fit_transform(df['review']).toarray()\n",
    "# vectorization is to convert textual data into numerical so that the algorithm can\n",
    "# draw some conclusions"
   ]
  },
  {
   "cell_type": "code",
   "execution_count": 37,
   "id": "046f52f9",
   "metadata": {
    "execution": {
     "iopub.execute_input": "2023-11-05T14:28:14.876703Z",
     "iopub.status.busy": "2023-11-05T14:28:14.876279Z",
     "iopub.status.idle": "2023-11-05T14:28:14.883828Z",
     "shell.execute_reply": "2023-11-05T14:28:14.882547Z"
    },
    "papermill": {
     "duration": 0.030806,
     "end_time": "2023-11-05T14:28:14.886043",
     "exception": false,
     "start_time": "2023-11-05T14:28:14.855237",
     "status": "completed"
    },
    "tags": []
   },
   "outputs": [
    {
     "data": {
      "text/plain": [
       "(10000, 1000)"
      ]
     },
     "execution_count": 37,
     "metadata": {},
     "output_type": "execute_result"
    }
   ],
   "source": [
    "X.shape"
   ]
  },
  {
   "cell_type": "code",
   "execution_count": 38,
   "id": "3194cd48",
   "metadata": {
    "execution": {
     "iopub.execute_input": "2023-11-05T14:28:14.928218Z",
     "iopub.status.busy": "2023-11-05T14:28:14.927319Z",
     "iopub.status.idle": "2023-11-05T14:28:14.933477Z",
     "shell.execute_reply": "2023-11-05T14:28:14.932708Z"
    },
    "papermill": {
     "duration": 0.029612,
     "end_time": "2023-11-05T14:28:14.935764",
     "exception": false,
     "start_time": "2023-11-05T14:28:14.906152",
     "status": "completed"
    },
    "tags": []
   },
   "outputs": [
    {
     "data": {
      "text/plain": [
       "0.056"
      ]
     },
     "execution_count": 38,
     "metadata": {},
     "output_type": "execute_result"
    }
   ],
   "source": [
    "X[0].mean()"
   ]
  },
  {
   "cell_type": "code",
   "execution_count": 39,
   "id": "bfc9a54e",
   "metadata": {
    "execution": {
     "iopub.execute_input": "2023-11-05T14:28:14.978884Z",
     "iopub.status.busy": "2023-11-05T14:28:14.978248Z",
     "iopub.status.idle": "2023-11-05T14:28:14.983300Z",
     "shell.execute_reply": "2023-11-05T14:28:14.982173Z"
    },
    "papermill": {
     "duration": 0.029084,
     "end_time": "2023-11-05T14:28:14.985708",
     "exception": false,
     "start_time": "2023-11-05T14:28:14.956624",
     "status": "completed"
    },
    "tags": []
   },
   "outputs": [],
   "source": [
    "# extracting y, which is label\n",
    "\n",
    "y=df.iloc[:,-1].values"
   ]
  },
  {
   "cell_type": "code",
   "execution_count": 40,
   "id": "f35576eb",
   "metadata": {
    "execution": {
     "iopub.execute_input": "2023-11-05T14:28:15.028507Z",
     "iopub.status.busy": "2023-11-05T14:28:15.028051Z",
     "iopub.status.idle": "2023-11-05T14:28:15.035270Z",
     "shell.execute_reply": "2023-11-05T14:28:15.034197Z"
    },
    "papermill": {
     "duration": 0.031834,
     "end_time": "2023-11-05T14:28:15.037479",
     "exception": false,
     "start_time": "2023-11-05T14:28:15.005645",
     "status": "completed"
    },
    "tags": []
   },
   "outputs": [
    {
     "data": {
      "text/plain": [
       "array([1, 0, 0, ..., 0, 1, 0])"
      ]
     },
     "execution_count": 40,
     "metadata": {},
     "output_type": "execute_result"
    }
   ],
   "source": [
    "y\n",
    "# 1 means positive review while 0 means negative review"
   ]
  },
  {
   "cell_type": "code",
   "execution_count": 41,
   "id": "5d74bc6a",
   "metadata": {
    "execution": {
     "iopub.execute_input": "2023-11-05T14:28:15.080021Z",
     "iopub.status.busy": "2023-11-05T14:28:15.079582Z",
     "iopub.status.idle": "2023-11-05T14:28:15.086347Z",
     "shell.execute_reply": "2023-11-05T14:28:15.085267Z"
    },
    "papermill": {
     "duration": 0.030909,
     "end_time": "2023-11-05T14:28:15.088623",
     "exception": false,
     "start_time": "2023-11-05T14:28:15.057714",
     "status": "completed"
    },
    "tags": []
   },
   "outputs": [
    {
     "data": {
      "text/plain": [
       "(10000,)"
      ]
     },
     "execution_count": 41,
     "metadata": {},
     "output_type": "execute_result"
    }
   ],
   "source": [
    "y.shape"
   ]
  },
  {
   "cell_type": "code",
   "execution_count": 42,
   "id": "9b0b86c6",
   "metadata": {
    "execution": {
     "iopub.execute_input": "2023-11-05T14:28:15.131625Z",
     "iopub.status.busy": "2023-11-05T14:28:15.130904Z",
     "iopub.status.idle": "2023-11-05T14:28:15.178499Z",
     "shell.execute_reply": "2023-11-05T14:28:15.177176Z"
    },
    "papermill": {
     "duration": 0.07246,
     "end_time": "2023-11-05T14:28:15.181413",
     "exception": false,
     "start_time": "2023-11-05T14:28:15.108953",
     "status": "completed"
    },
    "tags": []
   },
   "outputs": [],
   "source": [
    "# train test the data\n",
    "\n",
    "from sklearn.model_selection import train_test_split\n",
    "\n",
    "X_train, X_test, y_train, y_test = train_test_split(X, y, test_size=0.2)"
   ]
  },
  {
   "cell_type": "code",
   "execution_count": 43,
   "id": "af8b6280",
   "metadata": {
    "execution": {
     "iopub.execute_input": "2023-11-05T14:28:15.225297Z",
     "iopub.status.busy": "2023-11-05T14:28:15.224885Z",
     "iopub.status.idle": "2023-11-05T14:28:15.232103Z",
     "shell.execute_reply": "2023-11-05T14:28:15.231123Z"
    },
    "papermill": {
     "duration": 0.031787,
     "end_time": "2023-11-05T14:28:15.234404",
     "exception": false,
     "start_time": "2023-11-05T14:28:15.202617",
     "status": "completed"
    },
    "tags": []
   },
   "outputs": [
    {
     "data": {
      "text/plain": [
       "(8000, 1000)"
      ]
     },
     "execution_count": 43,
     "metadata": {},
     "output_type": "execute_result"
    }
   ],
   "source": [
    "X_train.shape"
   ]
  },
  {
   "cell_type": "code",
   "execution_count": 44,
   "id": "61fd2cd4",
   "metadata": {
    "execution": {
     "iopub.execute_input": "2023-11-05T14:28:15.277432Z",
     "iopub.status.busy": "2023-11-05T14:28:15.276771Z",
     "iopub.status.idle": "2023-11-05T14:28:15.283731Z",
     "shell.execute_reply": "2023-11-05T14:28:15.282588Z"
    },
    "papermill": {
     "duration": 0.03148,
     "end_time": "2023-11-05T14:28:15.286319",
     "exception": false,
     "start_time": "2023-11-05T14:28:15.254839",
     "status": "completed"
    },
    "tags": []
   },
   "outputs": [
    {
     "data": {
      "text/plain": [
       "(2000, 1000)"
      ]
     },
     "execution_count": 44,
     "metadata": {},
     "output_type": "execute_result"
    }
   ],
   "source": [
    "X_test.shape"
   ]
  },
  {
   "cell_type": "code",
   "execution_count": 45,
   "id": "3da8d678",
   "metadata": {
    "execution": {
     "iopub.execute_input": "2023-11-05T14:28:15.329315Z",
     "iopub.status.busy": "2023-11-05T14:28:15.328945Z",
     "iopub.status.idle": "2023-11-05T14:28:15.335314Z",
     "shell.execute_reply": "2023-11-05T14:28:15.334433Z"
    },
    "papermill": {
     "duration": 0.030551,
     "end_time": "2023-11-05T14:28:15.337428",
     "exception": false,
     "start_time": "2023-11-05T14:28:15.306877",
     "status": "completed"
    },
    "tags": []
   },
   "outputs": [
    {
     "data": {
      "text/plain": [
       "(8000,)"
      ]
     },
     "execution_count": 45,
     "metadata": {},
     "output_type": "execute_result"
    }
   ],
   "source": [
    "y_train.shape"
   ]
  },
  {
   "cell_type": "code",
   "execution_count": 46,
   "id": "af05ba08",
   "metadata": {
    "execution": {
     "iopub.execute_input": "2023-11-05T14:28:15.381644Z",
     "iopub.status.busy": "2023-11-05T14:28:15.380660Z",
     "iopub.status.idle": "2023-11-05T14:28:15.387255Z",
     "shell.execute_reply": "2023-11-05T14:28:15.386438Z"
    },
    "papermill": {
     "duration": 0.031413,
     "end_time": "2023-11-05T14:28:15.389457",
     "exception": false,
     "start_time": "2023-11-05T14:28:15.358044",
     "status": "completed"
    },
    "tags": []
   },
   "outputs": [
    {
     "data": {
      "text/plain": [
       "(2000,)"
      ]
     },
     "execution_count": 46,
     "metadata": {},
     "output_type": "execute_result"
    }
   ],
   "source": [
    "y_test.shape"
   ]
  },
  {
   "cell_type": "code",
   "execution_count": 47,
   "id": "86aad972",
   "metadata": {
    "execution": {
     "iopub.execute_input": "2023-11-05T14:28:15.434567Z",
     "iopub.status.busy": "2023-11-05T14:28:15.433447Z",
     "iopub.status.idle": "2023-11-05T14:28:15.448036Z",
     "shell.execute_reply": "2023-11-05T14:28:15.446932Z"
    },
    "papermill": {
     "duration": 0.040471,
     "end_time": "2023-11-05T14:28:15.450916",
     "exception": false,
     "start_time": "2023-11-05T14:28:15.410445",
     "status": "completed"
    },
    "tags": []
   },
   "outputs": [],
   "source": [
    "from sklearn.naive_bayes import GaussianNB,MultinomialNB,BernoulliNB"
   ]
  },
  {
   "cell_type": "code",
   "execution_count": 48,
   "id": "f87ef60e",
   "metadata": {
    "execution": {
     "iopub.execute_input": "2023-11-05T14:28:15.495591Z",
     "iopub.status.busy": "2023-11-05T14:28:15.494472Z",
     "iopub.status.idle": "2023-11-05T14:28:15.499976Z",
     "shell.execute_reply": "2023-11-05T14:28:15.498862Z"
    },
    "papermill": {
     "duration": 0.030446,
     "end_time": "2023-11-05T14:28:15.502388",
     "exception": false,
     "start_time": "2023-11-05T14:28:15.471942",
     "status": "completed"
    },
    "tags": []
   },
   "outputs": [],
   "source": [
    "clf1=GaussianNB()\n",
    "clf2=MultinomialNB()\n",
    "clf3=BernoulliNB()"
   ]
  },
  {
   "cell_type": "code",
   "execution_count": 49,
   "id": "f3f27d99",
   "metadata": {
    "execution": {
     "iopub.execute_input": "2023-11-05T14:28:15.547976Z",
     "iopub.status.busy": "2023-11-05T14:28:15.547303Z",
     "iopub.status.idle": "2023-11-05T14:28:15.905604Z",
     "shell.execute_reply": "2023-11-05T14:28:15.904497Z"
    },
    "papermill": {
     "duration": 0.383755,
     "end_time": "2023-11-05T14:28:15.908610",
     "exception": false,
     "start_time": "2023-11-05T14:28:15.524855",
     "status": "completed"
    },
    "tags": []
   },
   "outputs": [
    {
     "data": {
      "text/html": [
       "<style>#sk-container-id-1 {color: black;background-color: white;}#sk-container-id-1 pre{padding: 0;}#sk-container-id-1 div.sk-toggleable {background-color: white;}#sk-container-id-1 label.sk-toggleable__label {cursor: pointer;display: block;width: 100%;margin-bottom: 0;padding: 0.3em;box-sizing: border-box;text-align: center;}#sk-container-id-1 label.sk-toggleable__label-arrow:before {content: \"▸\";float: left;margin-right: 0.25em;color: #696969;}#sk-container-id-1 label.sk-toggleable__label-arrow:hover:before {color: black;}#sk-container-id-1 div.sk-estimator:hover label.sk-toggleable__label-arrow:before {color: black;}#sk-container-id-1 div.sk-toggleable__content {max-height: 0;max-width: 0;overflow: hidden;text-align: left;background-color: #f0f8ff;}#sk-container-id-1 div.sk-toggleable__content pre {margin: 0.2em;color: black;border-radius: 0.25em;background-color: #f0f8ff;}#sk-container-id-1 input.sk-toggleable__control:checked~div.sk-toggleable__content {max-height: 200px;max-width: 100%;overflow: auto;}#sk-container-id-1 input.sk-toggleable__control:checked~label.sk-toggleable__label-arrow:before {content: \"▾\";}#sk-container-id-1 div.sk-estimator input.sk-toggleable__control:checked~label.sk-toggleable__label {background-color: #d4ebff;}#sk-container-id-1 div.sk-label input.sk-toggleable__control:checked~label.sk-toggleable__label {background-color: #d4ebff;}#sk-container-id-1 input.sk-hidden--visually {border: 0;clip: rect(1px 1px 1px 1px);clip: rect(1px, 1px, 1px, 1px);height: 1px;margin: -1px;overflow: hidden;padding: 0;position: absolute;width: 1px;}#sk-container-id-1 div.sk-estimator {font-family: monospace;background-color: #f0f8ff;border: 1px dotted black;border-radius: 0.25em;box-sizing: border-box;margin-bottom: 0.5em;}#sk-container-id-1 div.sk-estimator:hover {background-color: #d4ebff;}#sk-container-id-1 div.sk-parallel-item::after {content: \"\";width: 100%;border-bottom: 1px solid gray;flex-grow: 1;}#sk-container-id-1 div.sk-label:hover label.sk-toggleable__label {background-color: #d4ebff;}#sk-container-id-1 div.sk-serial::before {content: \"\";position: absolute;border-left: 1px solid gray;box-sizing: border-box;top: 0;bottom: 0;left: 50%;z-index: 0;}#sk-container-id-1 div.sk-serial {display: flex;flex-direction: column;align-items: center;background-color: white;padding-right: 0.2em;padding-left: 0.2em;position: relative;}#sk-container-id-1 div.sk-item {position: relative;z-index: 1;}#sk-container-id-1 div.sk-parallel {display: flex;align-items: stretch;justify-content: center;background-color: white;position: relative;}#sk-container-id-1 div.sk-item::before, #sk-container-id-1 div.sk-parallel-item::before {content: \"\";position: absolute;border-left: 1px solid gray;box-sizing: border-box;top: 0;bottom: 0;left: 50%;z-index: -1;}#sk-container-id-1 div.sk-parallel-item {display: flex;flex-direction: column;z-index: 1;position: relative;background-color: white;}#sk-container-id-1 div.sk-parallel-item:first-child::after {align-self: flex-end;width: 50%;}#sk-container-id-1 div.sk-parallel-item:last-child::after {align-self: flex-start;width: 50%;}#sk-container-id-1 div.sk-parallel-item:only-child::after {width: 0;}#sk-container-id-1 div.sk-dashed-wrapped {border: 1px dashed gray;margin: 0 0.4em 0.5em 0.4em;box-sizing: border-box;padding-bottom: 0.4em;background-color: white;}#sk-container-id-1 div.sk-label label {font-family: monospace;font-weight: bold;display: inline-block;line-height: 1.2em;}#sk-container-id-1 div.sk-label-container {text-align: center;}#sk-container-id-1 div.sk-container {/* jupyter's `normalize.less` sets `[hidden] { display: none; }` but bootstrap.min.css set `[hidden] { display: none !important; }` so we also need the `!important` here to be able to override the default hidden behavior on the sphinx rendered scikit-learn.org. See: https://github.com/scikit-learn/scikit-learn/issues/21755 */display: inline-block !important;position: relative;}#sk-container-id-1 div.sk-text-repr-fallback {display: none;}</style><div id=\"sk-container-id-1\" class=\"sk-top-container\"><div class=\"sk-text-repr-fallback\"><pre>BernoulliNB()</pre><b>In a Jupyter environment, please rerun this cell to show the HTML representation or trust the notebook. <br />On GitHub, the HTML representation is unable to render, please try loading this page with nbviewer.org.</b></div><div class=\"sk-container\" hidden><div class=\"sk-item\"><div class=\"sk-estimator sk-toggleable\"><input class=\"sk-toggleable__control sk-hidden--visually\" id=\"sk-estimator-id-1\" type=\"checkbox\" checked><label for=\"sk-estimator-id-1\" class=\"sk-toggleable__label sk-toggleable__label-arrow\">BernoulliNB</label><div class=\"sk-toggleable__content\"><pre>BernoulliNB()</pre></div></div></div></div></div>"
      ],
      "text/plain": [
       "BernoulliNB()"
      ]
     },
     "execution_count": 49,
     "metadata": {},
     "output_type": "execute_result"
    }
   ],
   "source": [
    "clf1.fit(X_train,y_train)\n",
    "clf2.fit(X_train,y_train)\n",
    "clf3.fit(X_train,y_train)"
   ]
  },
  {
   "cell_type": "code",
   "execution_count": 50,
   "id": "8c251a21",
   "metadata": {
    "execution": {
     "iopub.execute_input": "2023-11-05T14:28:15.953487Z",
     "iopub.status.busy": "2023-11-05T14:28:15.953091Z",
     "iopub.status.idle": "2023-11-05T14:28:16.039875Z",
     "shell.execute_reply": "2023-11-05T14:28:16.038268Z"
    },
    "papermill": {
     "duration": 0.113848,
     "end_time": "2023-11-05T14:28:16.044173",
     "exception": false,
     "start_time": "2023-11-05T14:28:15.930325",
     "status": "completed"
    },
    "tags": []
   },
   "outputs": [],
   "source": [
    "# predicting values for each of them\n",
    "# this will give new array which will be exactly same dimension as of y_test\n",
    "y_pred1=clf1.predict(X_test)   \n",
    "y_pred2=clf2.predict(X_test)\n",
    "y_pred3=clf3.predict(X_test)"
   ]
  },
  {
   "cell_type": "code",
   "execution_count": 51,
   "id": "2c90fb5c",
   "metadata": {
    "execution": {
     "iopub.execute_input": "2023-11-05T14:28:16.137309Z",
     "iopub.status.busy": "2023-11-05T14:28:16.136587Z",
     "iopub.status.idle": "2023-11-05T14:28:16.147090Z",
     "shell.execute_reply": "2023-11-05T14:28:16.145641Z"
    },
    "papermill": {
     "duration": 0.062075,
     "end_time": "2023-11-05T14:28:16.151187",
     "exception": false,
     "start_time": "2023-11-05T14:28:16.089112",
     "status": "completed"
    },
    "tags": []
   },
   "outputs": [
    {
     "data": {
      "text/plain": [
       "(2000,)"
      ]
     },
     "execution_count": 51,
     "metadata": {},
     "output_type": "execute_result"
    }
   ],
   "source": [
    "y_test.shape"
   ]
  },
  {
   "cell_type": "code",
   "execution_count": 52,
   "id": "bfc131f9",
   "metadata": {
    "execution": {
     "iopub.execute_input": "2023-11-05T14:28:16.199102Z",
     "iopub.status.busy": "2023-11-05T14:28:16.198648Z",
     "iopub.status.idle": "2023-11-05T14:28:16.206161Z",
     "shell.execute_reply": "2023-11-05T14:28:16.205074Z"
    },
    "papermill": {
     "duration": 0.032697,
     "end_time": "2023-11-05T14:28:16.208478",
     "exception": false,
     "start_time": "2023-11-05T14:28:16.175781",
     "status": "completed"
    },
    "tags": []
   },
   "outputs": [
    {
     "data": {
      "text/plain": [
       "(2000,)"
      ]
     },
     "execution_count": 52,
     "metadata": {},
     "output_type": "execute_result"
    }
   ],
   "source": [
    "y_pred1.shape"
   ]
  },
  {
   "cell_type": "code",
   "execution_count": 53,
   "id": "7094ea90",
   "metadata": {
    "execution": {
     "iopub.execute_input": "2023-11-05T14:28:16.253860Z",
     "iopub.status.busy": "2023-11-05T14:28:16.252835Z",
     "iopub.status.idle": "2023-11-05T14:28:16.258458Z",
     "shell.execute_reply": "2023-11-05T14:28:16.257280Z"
    },
    "papermill": {
     "duration": 0.03094,
     "end_time": "2023-11-05T14:28:16.260828",
     "exception": false,
     "start_time": "2023-11-05T14:28:16.229888",
     "status": "completed"
    },
    "tags": []
   },
   "outputs": [],
   "source": [
    "# finally checking the accuracy\n",
    "from sklearn.metrics import accuracy_score"
   ]
  },
  {
   "cell_type": "code",
   "execution_count": 54,
   "id": "2a5d7ed8",
   "metadata": {
    "execution": {
     "iopub.execute_input": "2023-11-05T14:28:16.305659Z",
     "iopub.status.busy": "2023-11-05T14:28:16.305245Z",
     "iopub.status.idle": "2023-11-05T14:28:16.314905Z",
     "shell.execute_reply": "2023-11-05T14:28:16.313562Z"
    },
    "papermill": {
     "duration": 0.035235,
     "end_time": "2023-11-05T14:28:16.317452",
     "exception": false,
     "start_time": "2023-11-05T14:28:16.282217",
     "status": "completed"
    },
    "tags": []
   },
   "outputs": [
    {
     "name": "stdout",
     "output_type": "stream",
     "text": [
      "Gaussian 0.746\n",
      "Multinomial 0.833\n",
      "Bernaulli 0.835\n"
     ]
    }
   ],
   "source": [
    "print(\"Gaussian\",accuracy_score(y_test,y_pred1))\n",
    "print(\"Multinomial\",accuracy_score(y_test,y_pred2))\n",
    "print(\"Bernaulli\",accuracy_score(y_test,y_pred3))"
   ]
  },
  {
   "cell_type": "code",
   "execution_count": null,
   "id": "67d8fbaa",
   "metadata": {
    "papermill": {
     "duration": 0.021315,
     "end_time": "2023-11-05T14:28:16.360431",
     "exception": false,
     "start_time": "2023-11-05T14:28:16.339116",
     "status": "completed"
    },
    "tags": []
   },
   "outputs": [],
   "source": []
  }
 ],
 "metadata": {
  "kernelspec": {
   "display_name": "Python 3",
   "language": "python",
   "name": "python3"
  },
  "language_info": {
   "codemirror_mode": {
    "name": "ipython",
    "version": 3
   },
   "file_extension": ".py",
   "mimetype": "text/x-python",
   "name": "python",
   "nbconvert_exporter": "python",
   "pygments_lexer": "ipython3",
   "version": "3.10.12"
  },
  "papermill": {
   "default_parameters": {},
   "duration": 398.176024,
   "end_time": "2023-11-05T14:28:17.105111",
   "environment_variables": {},
   "exception": null,
   "input_path": "__notebook__.ipynb",
   "output_path": "__notebook__.ipynb",
   "parameters": {},
   "start_time": "2023-11-05T14:21:38.929087",
   "version": "2.4.0"
  }
 },
 "nbformat": 4,
 "nbformat_minor": 5
}
